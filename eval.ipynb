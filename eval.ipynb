{
 "cells": [
  {
   "cell_type": "code",
   "execution_count": 1,
   "metadata": {},
   "outputs": [],
   "source": [
    "import pandas as pd\n",
    "from editdistance import distance\n",
    "from openai import OpenAI\n",
    "from datetime import datetime\n",
    "import json\n",
    "from dotenv import load_dotenv\n",
    "import os"
   ]
  },
  {
   "cell_type": "code",
   "execution_count": 2,
   "metadata": {},
   "outputs": [],
   "source": [
    "LOG_PATH = \"logs/log-01.jsonl\""
   ]
  },
  {
   "cell_type": "code",
   "execution_count": 3,
   "metadata": {},
   "outputs": [],
   "source": [
    "load_dotenv()\n",
    "API_KEY = os.getenv(\"MY_API_KEY\")\n",
    "client = OpenAI(api_key=API_KEY)"
   ]
  },
  {
   "cell_type": "code",
   "execution_count": 4,
   "metadata": {},
   "outputs": [],
   "source": [
    "PROMPT_TEMPLATES = {\n",
    "    \"template-001\": \"Please assist with reviewing and correcting errors in texts produced by automatic transcription (OCR) of historical documents in Estonian. Your task is to carefully examine the following text and correct any mistakes introduced by the OCR software. The text to correct appears after the segment 'TEXT TO CORRECT:'. Please place the corrected version of the text after the 'CORRECTED TEXT:' segment. Do not write anything else than the corrected text.\\n\\n TEXT TO CORRECT:\\n {ocr_transcription} \\n CORRECTED TEXT:\"\n",
    "}"
   ]
  },
  {
   "cell_type": "code",
   "execution_count": 5,
   "metadata": {},
   "outputs": [],
   "source": [
    "def lev_sim(transcription, GT):\n",
    "    \"\"\"Relative Levenhstein distance between any transcription and the ground truth.\"\"\"\n",
    "    length = max(len(transcription), len(GT))\n",
    "    return (length - distance(transcription, GT)) / length\n",
    "\n",
    "def pcis(orig_sim, llm_sim):\n",
    "    \"\"\"Post Correction Improvement Score based on the Levenhstein distance between the original transcription and the GT and between the LLM transcription and the GT.\"\"\"\n",
    "    if orig_sim == 0:\n",
    "        return min(max(llm_sim, -1), 1)\n",
    "    elif orig_sim != llm_sim:\n",
    "        return min(max((llm_sim - orig_sim) / orig_sim, -1), 1)\n",
    "    else:  # This means orig_sim == llm_sim\n",
    "        return 0"
   ]
  },
  {
   "cell_type": "code",
   "execution_count": 6,
   "metadata": {},
   "outputs": [],
   "source": [
    "class Experiment():\n",
    "    def __init__(self, pageOID: str, OCR: str, GT: str,\n",
    "                 model: str, template_id: str, system_message: str,\n",
    "                 verbose: bool) -> None:\n",
    "        self.pageID = pageOID\n",
    "        self.OCR = OCR\n",
    "        self.GT = GT\n",
    "        self.model = model\n",
    "        self.template_id = template_id\n",
    "        self.prompt_template = PROMPT_TEMPLATES[template_id]\n",
    "        self.system_message = system_message\n",
    "        self.verbose = verbose\n",
    "\n",
    "    def request_correction(self):\n",
    "        if self.verbose == True:\n",
    "            print(f\"Fetching completion from {self.model}\")\n",
    "        messages = []\n",
    "        if self.system_message:\n",
    "            messages.append({\"role\": \"system\", \"content\": self.system_message})\n",
    "        prompt = self.prompt_template.format(ocr_transcription=self.OCR)\n",
    "        messages.append({\"role\": \"user\", \"content\": prompt})\n",
    "\n",
    "        response = client.chat.completions.create(\n",
    "            model=self.model,\n",
    "            messages=messages\n",
    "        )\n",
    "        return response.choices[0].message.content\n",
    "    \n",
    "    def get_correction_pcis(self):\n",
    "        \"\"\"Retrieve the Post Correction Improvement Score based on the original transcription, the LLM transcription and the ground truth.\"\"\"\n",
    "        orig_sim = lev_sim(self.OCR, self.GT)\n",
    "        llm_sim = lev_sim(self.LLM, self.GT)\n",
    "        return pcis(orig_sim, llm_sim)\n",
    "    \n",
    "    def log_results(self):\n",
    "        log_entry = {\n",
    "            \"experiment_id\": self.ID,\n",
    "            \"timestamp\": datetime.now().isoformat(),\n",
    "            \"model\": self.model,\n",
    "            \"prompt_template\": self.template_id,\n",
    "            \"system_message\": self.system_message,\n",
    "            \"pageOID\": self.pageID,\n",
    "            \"OCR\": self.OCR,\n",
    "            \"GT\": self.GT,\n",
    "            \"LLM\": self.LLM,\n",
    "            \"PCIS\": self.PCIS\n",
    "            }\n",
    "\n",
    "        with open(LOG_PATH, \"a\") as file:\n",
    "            file.write(json.dumps(log_entry) + \"\\n\")\n",
    "\n",
    "    def run(self):\n",
    "        try:\n",
    "            last_experiment_ID = pd.read_json(LOG_PATH, lines=True).experiment_id.max()\n",
    "        except:\n",
    "            last_experiment_ID = -1\n",
    "        self.ID = int(last_experiment_ID + 1)\n",
    "        self.LLM = self.request_correction()\n",
    "        self.PCIS = self.get_correction_pcis()\n",
    "        self.log_results()\n"
   ]
  },
  {
   "cell_type": "code",
   "execution_count": 7,
   "metadata": {},
   "outputs": [],
   "source": [
    "eval_data = pd.read_csv(\"data/evaluation/OCR_groundtruth.tsv\", sep=\"\\t\", encoding=\"utf8\")"
   ]
  },
  {
   "cell_type": "code",
   "execution_count": 8,
   "metadata": {},
   "outputs": [
    {
     "data": {
      "text/html": [
       "<div>\n",
       "<style scoped>\n",
       "    .dataframe tbody tr th:only-of-type {\n",
       "        vertical-align: middle;\n",
       "    }\n",
       "\n",
       "    .dataframe tbody tr th {\n",
       "        vertical-align: top;\n",
       "    }\n",
       "\n",
       "    .dataframe thead th {\n",
       "        text-align: right;\n",
       "    }\n",
       "</style>\n",
       "<table border=\"1\" class=\"dataframe\">\n",
       "  <thead>\n",
       "    <tr style=\"text-align: right;\">\n",
       "      <th></th>\n",
       "      <th>pageOID</th>\n",
       "      <th>oldtext</th>\n",
       "      <th>newtext</th>\n",
       "    </tr>\n",
       "  </thead>\n",
       "  <tbody>\n",
       "    <tr>\n",
       "      <th>0</th>\n",
       "      <td>eestipostimees18841114.1.3</td>\n",
       "      <td>Wäljamaalt. SsM Maalt» SM räägitakse mõni kord...</td>\n",
       "      <td>Wäljamaalt. Saksa maalt. Sääl räägitakse mõni ...</td>\n",
       "    </tr>\n",
       "    <tr>\n",
       "      <th>1</th>\n",
       "      <td>postimeesew19231229.1.2</td>\n",
       "      <td>Päewauudised. Naroowa weeuputuse suuruse ja ka...</td>\n",
       "      <td>Päewauudised. Naroowa weeuputuse suuruse ja ka...</td>\n",
       "    </tr>\n",
       "    <tr>\n",
       "      <th>2</th>\n",
       "      <td>wabamaa19310211.1.3</td>\n",
       "      <td>Onro&amp;ommiinine tulekulil Risti oleolkus. Oleta...</td>\n",
       "      <td>Warahommikune tulekahi Risti alewikus. Oletata...</td>\n",
       "    </tr>\n",
       "    <tr>\n",
       "      <th>3</th>\n",
       "      <td>sakalaew19000613.1.2</td>\n",
       "      <td>Koorelahutaja kasu wäike põllumehe majapidamis...</td>\n",
       "      <td>Koorelahutaja kasu wäike põllumehe majapidamis...</td>\n",
       "    </tr>\n",
       "    <tr>\n",
       "      <th>4</th>\n",
       "      <td>paevalehtew19110901.2.2</td>\n",
       "      <td>Wiimane torm on meie laewa ja kalameestele arw...</td>\n",
       "      <td>Wiimane torm on meie laewa- ja kalameestele ar...</td>\n",
       "    </tr>\n",
       "    <tr>\n",
       "      <th>5</th>\n",
       "      <td>sakalaew19320227.2.2</td>\n",
       "      <td>Lahing vendade vahel OlustveresPeida reikioman...</td>\n",
       "      <td>Lahing vendade vahel Olustveres. Peldu veskiom...</td>\n",
       "    </tr>\n",
       "    <tr>\n",
       "      <th>6</th>\n",
       "      <td>kaja19200221-1.1.1</td>\n",
       "      <td>Eesti saadik Pusta Jtalia Välisministri jutul....</td>\n",
       "      <td>Eesti saadik Pusta Italia wälisministri jutul....</td>\n",
       "    </tr>\n",
       "    <tr>\n",
       "      <th>7</th>\n",
       "      <td>paevalehtew19170727.1.3</td>\n",
       "      <td>Kooli elu. Eesti keel Tallstma poeglaste kmmae...</td>\n",
       "      <td>Kooli elu. Eesti keel Tallinna poeglaste komme...</td>\n",
       "    </tr>\n",
       "    <tr>\n",
       "      <th>8</th>\n",
       "      <td>postimeesew19061003.1.1</td>\n",
       "      <td>Karskuse kongress »l. Teise püema töö hakkas p...</td>\n",
       "      <td>Karskuse kongress. III. Teise päewa töö hakkas...</td>\n",
       "    </tr>\n",
       "    <tr>\n",
       "      <th>9</th>\n",
       "      <td>postimeesew19250327.1.4</td>\n",
       "      <td>Kiriklikud sekeldused Põltsamaal. „Sina ei pea...</td>\n",
       "      <td>Kiriklikud sekeldused Põltsamaal. „Sina ei pea...</td>\n",
       "    </tr>\n",
       "    <tr>\n",
       "      <th>10</th>\n",
       "      <td>wabamaa19270302.1.4</td>\n",
       "      <td>NngÄogu eelarwekomisjon jätkas eiKz hlariduHmi...</td>\n",
       "      <td>Riigikogu eelarwekomisjon jätkas eile haridusm...</td>\n",
       "    </tr>\n",
       "  </tbody>\n",
       "</table>\n",
       "</div>"
      ],
      "text/plain": [
       "                       pageOID  \\\n",
       "0   eestipostimees18841114.1.3   \n",
       "1      postimeesew19231229.1.2   \n",
       "2          wabamaa19310211.1.3   \n",
       "3         sakalaew19000613.1.2   \n",
       "4      paevalehtew19110901.2.2   \n",
       "5         sakalaew19320227.2.2   \n",
       "6           kaja19200221-1.1.1   \n",
       "7      paevalehtew19170727.1.3   \n",
       "8      postimeesew19061003.1.1   \n",
       "9      postimeesew19250327.1.4   \n",
       "10         wabamaa19270302.1.4   \n",
       "\n",
       "                                              oldtext  \\\n",
       "0   Wäljamaalt. SsM Maalt» SM räägitakse mõni kord...   \n",
       "1   Päewauudised. Naroowa weeuputuse suuruse ja ka...   \n",
       "2   Onro&ommiinine tulekulil Risti oleolkus. Oleta...   \n",
       "3   Koorelahutaja kasu wäike põllumehe majapidamis...   \n",
       "4   Wiimane torm on meie laewa ja kalameestele arw...   \n",
       "5   Lahing vendade vahel OlustveresPeida reikioman...   \n",
       "6   Eesti saadik Pusta Jtalia Välisministri jutul....   \n",
       "7   Kooli elu. Eesti keel Tallstma poeglaste kmmae...   \n",
       "8   Karskuse kongress »l. Teise püema töö hakkas p...   \n",
       "9   Kiriklikud sekeldused Põltsamaal. „Sina ei pea...   \n",
       "10  NngÄogu eelarwekomisjon jätkas eiKz hlariduHmi...   \n",
       "\n",
       "                                              newtext  \n",
       "0   Wäljamaalt. Saksa maalt. Sääl räägitakse mõni ...  \n",
       "1   Päewauudised. Naroowa weeuputuse suuruse ja ka...  \n",
       "2   Warahommikune tulekahi Risti alewikus. Oletata...  \n",
       "3   Koorelahutaja kasu wäike põllumehe majapidamis...  \n",
       "4   Wiimane torm on meie laewa- ja kalameestele ar...  \n",
       "5   Lahing vendade vahel Olustveres. Peldu veskiom...  \n",
       "6   Eesti saadik Pusta Italia wälisministri jutul....  \n",
       "7   Kooli elu. Eesti keel Tallinna poeglaste komme...  \n",
       "8   Karskuse kongress. III. Teise päewa töö hakkas...  \n",
       "9   Kiriklikud sekeldused Põltsamaal. „Sina ei pea...  \n",
       "10  Riigikogu eelarwekomisjon jätkas eile haridusm...  "
      ]
     },
     "execution_count": 8,
     "metadata": {},
     "output_type": "execute_result"
    }
   ],
   "source": [
    "eval_data"
   ]
  },
  {
   "cell_type": "code",
   "execution_count": null,
   "metadata": {},
   "outputs": [],
   "source": [
    "for model in [\"gpt-3.5-turbo\", \"gpt-3.5-turbo-1106\", \"gpt-4\", \"gpt-4-turbo-preview\"]:\n",
    "    for _, row in eval_data.iterrows():\n",
    "        experiment = Experiment(pageOID=row.pageOID,\n",
    "                                OCR = row.oldtext,\n",
    "                                GT = row.newtext,\n",
    "                                model=model,\n",
    "                                template_id=\"template-001\",\n",
    "                                system_message=None,\n",
    "                                verbose=True\n",
    "                                )\n",
    "        experiment.run()"
   ]
  },
  {
   "cell_type": "code",
   "execution_count": 9,
   "metadata": {},
   "outputs": [],
   "source": [
    "log = pd.read_json(\"logs/log-01.jsonl\", lines=True)"
   ]
  },
  {
   "cell_type": "code",
   "execution_count": 10,
   "metadata": {},
   "outputs": [
    {
     "data": {
      "text/plain": [
       "<Axes: title={'center': 'PCIS'}, xlabel='[model]'>"
      ]
     },
     "execution_count": 10,
     "metadata": {},
     "output_type": "execute_result"
    },
    {
     "data": {
      "image/png": "[encoded data removed]",
      "text/plain": [
       "<Figure size 640x480 with 1 Axes>"
      ]
     },
     "metadata": {},
     "output_type": "display_data"
    }
   ],
   "source": [
    "log[[\"model\", \"PCIS\"]].boxplot(by=\"model\")"
   ]
  }
 ],
 "metadata": {
  "kernelspec": {
   "display_name": ".ocr_env",
   "language": "python",
   "name": "python3"
  },
  "language_info": {
   "codemirror_mode": {
    "name": "ipython",
    "version": 3
   },
   "file_extension": ".py",
   "mimetype": "text/x-python",
   "name": "python",
   "nbconvert_exporter": "python",
   "pygments_lexer": "ipython3",
   "version": "3.9.12"
  }
 },
 "nbformat": 4,
 "nbformat_minor": 2
}
